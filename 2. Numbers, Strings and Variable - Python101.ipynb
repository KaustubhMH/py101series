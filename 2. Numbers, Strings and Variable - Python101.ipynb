{
 "cells": [
  {
   "cell_type": "markdown",
   "metadata": {},
   "source": [
    "# Numbers, Strings and Variables\n",
    "In this section, we'll learn Python's simplest built-in data types:\n",
    "\n",
    "- booleans\n",
    "- integers\n",
    "- floats\n",
    "- strings"
   ]
  },
  {
   "cell_type": "markdown",
   "metadata": {},
   "source": [
    "### Python Interpreter \n",
    "\n",
    "Before we get started with writing any code, please open Terminal/Command Prompt in your Mac or Windows machine respectively. In the terminal, type in **python3** and press 'Enter'. \n",
    "\n",
    "You must see something like, \n",
    "\n",
    "~~~\n",
    "Python 3.5.2 (v3.5.2:4def2a2901a5, Jun 26 2016, 10:47:25) \n",
    "[GCC 4.2.1 (Apple Inc. build 5666) (dot 3)] on darwin\n",
    "Type \"help\", \"copyright\", \"credits\" or \"license\" for more information.\n",
    ">>>\n",
    "~~~\n",
    "\n",
    "_>>>_ is called the prompt. This is what you'll be typing in your commands after.\n"
   ]
  },
  {
   "cell_type": "markdown",
   "metadata": {},
   "source": [
    "## Numbers\n",
    "Python has a built in support for integers and floating point numbers. You can use the python interpreter to do the most basic of mathematical calculations. \n",
    "\n",
    "Operation | Operator | Example | Result\n",
    "------------ | ------------- | ------------- | -------------\n",
    "addition | + | 13 + 4 | 16\n",
    "subtraction | - | 99 - 9 | 90\n",
    "multiplication | * | 4 * 7 | 28\n",
    "division | / | 13/2 | 6.5\n",
    "floored division | // | 13//2 | 6\n",
    "modulus | % | 15%2 | 1\n",
    "exponentiation | ** | 3**2 | 9"
   ]
  },
  {
   "cell_type": "code",
   "execution_count": 9,
   "metadata": {
    "collapsed": false
   },
   "outputs": [
    {
     "data": {
      "text/plain": [
       "10"
      ]
     },
     "execution_count": 9,
     "metadata": {},
     "output_type": "execute_result"
    }
   ],
   "source": [
    ">>> 5+5"
   ]
  },
  {
   "cell_type": "code",
   "execution_count": 10,
   "metadata": {
    "collapsed": false
   },
   "outputs": [
    {
     "data": {
      "text/plain": [
       "90"
      ]
     },
     "execution_count": 10,
     "metadata": {},
     "output_type": "execute_result"
    }
   ],
   "source": [
    ">>> 99-9"
   ]
  },
  {
   "cell_type": "code",
   "execution_count": 6,
   "metadata": {
    "collapsed": false
   },
   "outputs": [
    {
     "data": {
      "text/plain": [
       "1"
      ]
     },
     "execution_count": 6,
     "metadata": {},
     "output_type": "execute_result"
    }
   ],
   "source": [
    ">>> 15%2\n"
   ]
  },
  {
   "cell_type": "code",
   "execution_count": 7,
   "metadata": {
    "collapsed": false
   },
   "outputs": [
    {
     "data": {
      "text/plain": [
       "16"
      ]
     },
     "execution_count": 7,
     "metadata": {},
     "output_type": "execute_result"
    }
   ],
   "source": [
    ">>> 4**2"
   ]
  },
  {
   "cell_type": "code",
   "execution_count": 11,
   "metadata": {
    "collapsed": false
   },
   "outputs": [
    {
     "name": "stdout",
     "output_type": "stream",
     "text": [
      "2\n"
     ]
    }
   ],
   "source": [
    ">>> print(5//2)"
   ]
  },
  {
   "cell_type": "markdown",
   "metadata": {},
   "source": [
    "This is the first time you're seeing the print() function. print() function is used to display result into the terminal/command prompt. However, you can write in Python statements directly into the interpreter and still see the result. But when you run a python script written in a text editor, using the command \n",
    "\n",
    "** $ python3 script_name.py **\n",
    "\n",
    "You will not see anything in your terminal/command prompt unless explicitly mentioned. So whenever you want a result displayed in the output, use print() function.\n",
    "\n"
   ]
  }
 ],
 "metadata": {
  "kernelspec": {
   "display_name": "Python 3",
   "language": "python",
   "name": "python3"
  },
  "language_info": {
   "codemirror_mode": {
    "name": "ipython",
    "version": 3
   },
   "file_extension": ".py",
   "mimetype": "text/x-python",
   "name": "python",
   "nbconvert_exporter": "python",
   "pygments_lexer": "ipython3",
   "version": "3.5.2"
  }
 },
 "nbformat": 4,
 "nbformat_minor": 2
}
