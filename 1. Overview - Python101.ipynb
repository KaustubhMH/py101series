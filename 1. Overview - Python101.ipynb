{
 "cells": [
  {
   "cell_type": "markdown",
   "metadata": {},
   "source": [
    "# Introduction to Python Programming\n",
    "\n",
    "This is the first part of the Python101 series developed at [Speckbit](www.speckbit.com). \n",
    "\n",
    "If you're here to learn Python, I will take the liberty to assume that you already know what Python is and why you should be learning Python programming. However, if that is not the case, let me go over that quickly.\n",
    "\n",
    "#### What is Python? \n",
    "* Python is a widely used high-level, general-purpose, interpreted, dynamic programming language. \n",
    "* It was first designed by [Guido Van Rossum](https://en.wikipedia.org/wiki/Guido_van_Rossum). \n",
    "* It is currently maintained by the [Python Software Foundation](https://en.wikipedia.org/wiki/Guido_van_Rossum).\n",
    "* Read more about Python [here](https://en.wikipedia.org/wiki/Python_(programming_language)).\n",
    "\n",
    "#### Why Python? \n",
    "* Very gentle learning curve. \n",
    "* Emphasises on code readability, making it easy to understand code for first time programmers.\n",
    "* Widely accepted and used in the industry by companies like Google, Youtube, Quora, Instagram, Dropbox etc.\n",
    "* You can write a much smaller program compared to other languages to do the same task. \n",
    "* Python runs almost everywhere and has \"batteries included\" philosophy - setting you up with a tonn of useful software in it's standard library. \n",
    "* Is growing rapidly as one of the most widely used programming language around the globe."
   ]
  },
  {
   "cell_type": "markdown",
   "metadata": {},
   "source": [
    "#### Installing Python\n",
    "[fill]\n",
    "#### Running Python\n",
    "[fill]\n",
    "####  Using the Interpreter\n",
    "[fill]"
   ]
  },
  {
   "cell_type": "markdown",
   "metadata": {},
   "source": [
    "#### Running Python Files\n",
    "\n",
    "#### How this series works\n",
    "\n",
    "\n",
    "[Let's get started]()"
   ]
  }
 ],
 "metadata": {
  "kernelspec": {
   "display_name": "Python 3",
   "language": "python",
   "name": "python3"
  },
  "language_info": {
   "codemirror_mode": {
    "name": "ipython",
    "version": 3
   },
   "file_extension": ".py",
   "mimetype": "text/x-python",
   "name": "python",
   "nbconvert_exporter": "python",
   "pygments_lexer": "ipython3",
   "version": "3.5.2"
  }
 },
 "nbformat": 4,
 "nbformat_minor": 2
}
